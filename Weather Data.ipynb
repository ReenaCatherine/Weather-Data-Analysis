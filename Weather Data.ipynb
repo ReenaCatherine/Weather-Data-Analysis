{
 "cells": [
  {
   "cell_type": "markdown",
   "id": "98272faa",
   "metadata": {},
   "source": [
    "## Libraries"
   ]
  },
  {
   "cell_type": "code",
   "execution_count": 1,
   "id": "ee51aed1",
   "metadata": {},
   "outputs": [],
   "source": [
    "# Import libraries\n",
    "import pandas as pd\n",
    "import bs4\n",
    "from bs4 import BeautifulSoup\n",
    "import requests\n",
    "import re\n",
    "from datetime import datetime\n",
    "from tqdm import tqdm\n",
    "import numpy as np\n",
    "import matplotlib.pyplot as plt\n",
    "import seaborn as sns"
   ]
  },
  {
   "cell_type": "markdown",
   "id": "2f98fe14",
   "metadata": {},
   "source": [
    "## Weather Data Extraction"
   ]
  },
  {
   "cell_type": "code",
   "execution_count": 13,
   "id": "8470dee9",
   "metadata": {},
   "outputs": [],
   "source": [
    "january=[\"1/1/2022\",\"1/31/2022\",\"January.csv\"]\n",
    "february=[\"2/1/2022\",\"2/28/2022\",\"February.csv\"]\n",
    "march=[\"3/1/2022\",\"3/31/2022\",\"March.csv\"]\n",
    "april=[\"4/1/2022\",\"4/30/2022\",\"April.csv\"]\n",
    "may=[\"5/1/2022\",\"5/31/2022\",\"May.csv\"]\n",
    "june=[\"6/1/2022\",\"6/30/2022\",\"June.csv\"]\n",
    "july=[\"7/1/2022\",\"7/31/2022\",\"July.csv\"]\n",
    "august=[\"8/1/2022\",\"8/31/2022\",\"August.csv\"]\n",
    "september=[\"9/1/2022\",\"9/30/2022\",\"September.csv\"]\n",
    "october=[\"10/1/2022\",\"10/31/2022\",\"October.csv\"]\n",
    "november=[\"11/1/2022\",\"11/30/2022\",\"November.csv\"]\n",
    "december=[\"12/1/2022\",\"12/31/2022\",\"December.csv\"]\n",
    "\n",
    "def process_webpage(start,end,filename):\n",
    "    # 1.list of dates\n",
    "    range_date = pd.date_range(start, end, freq='M')\n",
    "    dates = [str(i)[:4]+str(i)[5:7] for i in range_date]\n",
    "    print(dates[0:5])\n",
    "    \n",
    "    # 2. Information extracted from page\n",
    "    df_list=[]\n",
    "    index=[]\n",
    "    for k in tqdm(range(len(dates))):\n",
    "        url = 'https://www.estesparkweather.net/archive_reports.php?date=' + dates[k]\n",
    "        page = requests.get(url) #download the webpage \n",
    "    \n",
    "    # 3. Data parsing using BeautifulSoup\n",
    "    soup = BeautifulSoup(page.content, 'html.parser')\n",
    "    table = soup.find_all('table')\n",
    "    type(table)\n",
    "    # to remove rows not req for extraction\n",
    "    parsed_data = [row.text.splitlines() for row in table]\n",
    "    parsed_data = parsed_data[:-9] \n",
    "    # removing all empty list for better view using slicing\n",
    "    for l in range(len(parsed_data)):\n",
    "        parsed_data[l] = parsed_data[l][2:len(parsed_data[l]):3]\n",
    "    \n",
    "    # 4. Extracting numerical values from string using regex\n",
    "    for i in range(len(parsed_data)):\n",
    "        c=['.'.join(re.findall(\"\\d+\", str(parsed_data[i][j].split()[:5]))) for j in range(len(parsed_data[i]))]\n",
    "        df_list.append(c)\n",
    "        index.append(dates[k] + c[0]) # \\d+ is to give numerical values\n",
    "    \n",
    "    # 5. Removing junk datapoints (length>20 -- index no, 19 data) \n",
    "    f_index = [index[i] for i in range(len(index)) if len(index[i])>6]\n",
    "    data = [df_list[i][1:] for i in range(len(df_list)) if len(df_list[i][1:])==19]\n",
    "    #convert index in yyyy-mm-dd date format\n",
    "    final_index = [datetime.strptime(str(f_index[i]),'%Y%m%d').strftime('%Y-%m-%d') for i in range(len(f_index))]\n",
    "\n",
    "    #7. Create DataFrame \n",
    "    column_data = ['Avg. Temperature(°F)', 'Avg. Humidity(%)',\n",
    "               'Avg. Dewpoint(°F)', 'Avg. Barometer(in)',\n",
    "               'Avg. Windspeed(mph)', 'Avg. Gust speed(mph)',\n",
    "               'Avg. Direction(°deg)', 'Rainfall for month(in)',\n",
    "               'Rainfall for year(in)', 'Max. rain per minute',\n",
    "               'Max. Temperature(°F)', 'Min. Temperature(°F)',\n",
    "               'Max. Humidity(%)', 'Min. Humidity(%)',\n",
    "               'Max. Pressure', 'Min. Pressure',\n",
    "               'Max. Windspeed(mph)', 'Max. Gust speed(mph)',\n",
    "               'Max. Heat Index(°F)']\n",
    "    final_dataframe = pd.DataFrame(data, columns = column_data, index = final_index)\n",
    "    final_dataframe.head(31)\n",
    "    final_dataframe.to_csv(filename)\n",
    "    \n",
    "    #EDA - correlation plot\n",
    "    final_data=pd.read_csv('Weather_Data_.csv')\n",
    "    relation = final_data.corr()  # assign data correlation matrix\n",
    "    plt.figure(figsize=(10,8))  # Increase the size of the heatmap\n",
    "    sns.heatmap(data=relation)# Store heatmap object\n",
    "    plt.title(\"Correlation of columns in the dataframe\") # title to the heatmap\n",
    "    plt.savefig('plot1.png', dpi=300, bbox_inches='tight')\n",
    "    plt.show()\n",
    "    \n",
    "    # EDA - \n",
    "    print(final_data.describe())"
   ]
  },
  {
   "cell_type": "code",
   "execution_count": 4,
   "id": "059ea7a0",
   "metadata": {},
   "outputs": [
    {
     "name": "stdout",
     "output_type": "stream",
     "text": [
      "['202201']\n"
     ]
    },
    {
     "name": "stderr",
     "output_type": "stream",
     "text": [
      "100%|██████████| 1/1 [00:02<00:00,  2.30s/it]\n"
     ]
    },
    {
     "name": "stdout",
     "output_type": "stream",
     "text": [
      "['202202']\n"
     ]
    },
    {
     "name": "stderr",
     "output_type": "stream",
     "text": [
      "100%|██████████| 1/1 [00:01<00:00,  1.76s/it]\n"
     ]
    },
    {
     "name": "stdout",
     "output_type": "stream",
     "text": [
      "['202203']\n"
     ]
    },
    {
     "name": "stderr",
     "output_type": "stream",
     "text": [
      "100%|██████████| 1/1 [00:02<00:00,  2.61s/it]\n"
     ]
    },
    {
     "name": "stdout",
     "output_type": "stream",
     "text": [
      "['202204']\n"
     ]
    },
    {
     "name": "stderr",
     "output_type": "stream",
     "text": [
      "100%|██████████| 1/1 [00:01<00:00,  1.70s/it]\n"
     ]
    },
    {
     "name": "stdout",
     "output_type": "stream",
     "text": [
      "['202205']\n"
     ]
    },
    {
     "name": "stderr",
     "output_type": "stream",
     "text": [
      "100%|██████████| 1/1 [00:01<00:00,  1.73s/it]\n"
     ]
    },
    {
     "name": "stdout",
     "output_type": "stream",
     "text": [
      "['202206']\n"
     ]
    },
    {
     "name": "stderr",
     "output_type": "stream",
     "text": [
      "100%|██████████| 1/1 [00:01<00:00,  1.86s/it]\n"
     ]
    },
    {
     "name": "stdout",
     "output_type": "stream",
     "text": [
      "['202207']\n"
     ]
    },
    {
     "name": "stderr",
     "output_type": "stream",
     "text": [
      "100%|██████████| 1/1 [00:01<00:00,  1.87s/it]\n"
     ]
    },
    {
     "name": "stdout",
     "output_type": "stream",
     "text": [
      "['202208']\n"
     ]
    },
    {
     "name": "stderr",
     "output_type": "stream",
     "text": [
      "100%|██████████| 1/1 [00:01<00:00,  1.70s/it]\n"
     ]
    },
    {
     "name": "stdout",
     "output_type": "stream",
     "text": [
      "['202209']\n"
     ]
    },
    {
     "name": "stderr",
     "output_type": "stream",
     "text": [
      "100%|██████████| 1/1 [00:01<00:00,  1.77s/it]\n"
     ]
    },
    {
     "name": "stdout",
     "output_type": "stream",
     "text": [
      "['202210']\n"
     ]
    },
    {
     "name": "stderr",
     "output_type": "stream",
     "text": [
      "100%|██████████| 1/1 [00:01<00:00,  1.72s/it]\n"
     ]
    },
    {
     "name": "stdout",
     "output_type": "stream",
     "text": [
      "['202211']\n"
     ]
    },
    {
     "name": "stderr",
     "output_type": "stream",
     "text": [
      "100%|██████████| 1/1 [00:01<00:00,  1.81s/it]\n"
     ]
    },
    {
     "name": "stdout",
     "output_type": "stream",
     "text": [
      "['202212']\n"
     ]
    },
    {
     "name": "stderr",
     "output_type": "stream",
     "text": [
      "100%|██████████| 1/1 [00:01<00:00,  1.85s/it]\n"
     ]
    }
   ],
   "source": [
    "process_webpage(*january)\n",
    "process_webpage(*february)\n",
    "process_webpage(*march)\n",
    "process_webpage(*april)\n",
    "process_webpage(*may)\n",
    "process_webpage(*june)\n",
    "process_webpage(*july)\n",
    "process_webpage(*august)\n",
    "process_webpage(*september)\n",
    "process_webpage(*october)\n",
    "process_webpage(*november)\n",
    "process_webpage(*december)"
   ]
  },
  {
   "cell_type": "code",
   "execution_count": 14,
   "id": "711c3be5",
   "metadata": {},
   "outputs": [
    {
     "name": "stdout",
     "output_type": "stream",
     "text": [
      "['202212']\n"
     ]
    },
    {
     "name": "stderr",
     "output_type": "stream",
     "text": [
      "100%|██████████| 1/1 [00:01<00:00,  1.60s/it]\n"
     ]
    },
    {
     "data": {
      "image/png": "[encoded data removed]",
      "text/plain": [
       "<Figure size 720x576 with 2 Axes>"
      ]
     },
     "metadata": {
      "needs_background": "light"
     },
     "output_type": "display_data"
    },
    {
     "name": "stdout",
     "output_type": "stream",
     "text": [
      "       Avg. Temperature(°F)  Avg. Humidity(%)  Avg. Dewpoint(°F)  \\\n",
      "count            608.000000        608.000000         608.000000   \n",
      "mean              43.361020         54.782895          25.741776   \n",
      "std               16.204503         17.395645          15.807370   \n",
      "min                0.100000         13.000000           0.100000   \n",
      "25%               31.275000         42.000000          12.100000   \n",
      "50%               43.850000         54.000000          23.750000   \n",
      "75%               57.000000         68.000000          40.825000   \n",
      "max               74.700000         94.000000          54.100000   \n",
      "\n",
      "       Avg. Barometer(in)  Avg. Windspeed(mph)  Avg. Gust speed(mph)  \\\n",
      "count          608.000000           608.000000            608.000000   \n",
      "mean            29.836678             5.439638              8.418421   \n",
      "std              0.254230             3.714510              5.260022   \n",
      "min             29.100000             0.700000              1.400000   \n",
      "25%             29.700000             2.600000              4.400000   \n",
      "50%             29.800000             4.100000              6.600000   \n",
      "75%             30.000000             7.900000             11.925000   \n",
      "max             30.600000            20.400000             30.200000   \n",
      "\n",
      "       Avg. Direction(°deg)  Rainfall for month(in)  Rainfall for year(in)  \\\n",
      "count            608.000000              608.000000             608.000000   \n",
      "mean             203.383224                0.700395               6.166727   \n",
      "std               93.020163                0.998453               4.707664   \n",
      "min                1.000000                0.000000               0.370000   \n",
      "25%              106.750000                0.120000               1.490000   \n",
      "50%              239.000000                0.260000               6.820000   \n",
      "75%              266.000000                0.892500               8.830000   \n",
      "max              359.000000                4.750000              19.080000   \n",
      "\n",
      "       Max. rain per minute  Max. Temperature(°F)  Min. Temperature(°F)  \\\n",
      "count            608.000000            608.000000            608.000000   \n",
      "mean               0.004671             56.090625             30.848191   \n",
      "std                0.009106             19.087306             14.206882   \n",
      "min                0.000000              1.700000              0.500000   \n",
      "25%                0.000000             40.675000             20.875000   \n",
      "50%                0.000000             56.450000             31.400000   \n",
      "75%                0.010000             72.325000             42.400000   \n",
      "max                0.070000             90.300000             65.600000   \n",
      "\n",
      "       Max. Humidity(%)  Min. Humidity(%)  Max. Pressure  Min. Pressure  \\\n",
      "count        608.000000        608.000000     608.000000     608.000000   \n",
      "mean          79.702303         31.223684      29.966398      29.696796   \n",
      "std           17.154455         16.268220       0.250265       0.365320   \n",
      "min           22.000000          2.000000      29.271000      25.465000   \n",
      "25%           71.000000         19.000000      29.792000      29.588000   \n",
      "50%           86.000000         28.000000      29.909000      29.700000   \n",
      "75%           93.000000         39.000000      30.142000      29.853250   \n",
      "max           98.000000         90.000000      30.771000      30.492000   \n",
      "\n",
      "       Max. Windspeed(mph)  Max. Gust speed(mph)  Max. Heat Index(°F)  \n",
      "count           608.000000            608.000000           608.000000  \n",
      "mean             17.842763             27.005592            56.400164  \n",
      "std               6.141276              9.270006            19.231910  \n",
      "min               3.500000              4.600000             1.700000  \n",
      "25%              12.700000             19.600000            40.675000  \n",
      "50%              17.300000             26.500000            56.450000  \n",
      "75%              21.900000             33.400000            77.100000  \n",
      "max              35.700000             56.400000            87.000000  \n"
     ]
    }
   ],
   "source": [
    "process_webpage(*december)"
   ]
  },
  {
   "cell_type": "markdown",
   "id": "c78a009f",
   "metadata": {},
   "source": [
    "## Merge files"
   ]
  },
  {
   "cell_type": "code",
   "execution_count": 14,
   "id": "50d7562d",
   "metadata": {},
   "outputs": [],
   "source": [
    "import glob\n",
    "import pandas as pd"
   ]
  },
  {
   "cell_type": "code",
   "execution_count": 20,
   "id": "21db7d66",
   "metadata": {},
   "outputs": [
    {
     "name": "stdout",
     "output_type": "stream",
     "text": [
      "['C:/Users/Hp/Downloads/Weather\\\\1. January.xlsx', 'C:/Users/Hp/Downloads/Weather\\\\1.1 January.xlsx', 'C:/Users/Hp/Downloads/Weather\\\\10.1 October.xlsx', 'C:/Users/Hp/Downloads/Weather\\\\11.1 November.xlsx', 'C:/Users/Hp/Downloads/Weather\\\\12.1 December.xlsx', 'C:/Users/Hp/Downloads/Weather\\\\2. February.xlsx', 'C:/Users/Hp/Downloads/Weather\\\\2.1 February.xlsx', 'C:/Users/Hp/Downloads/Weather\\\\3. March.xlsx', 'C:/Users/Hp/Downloads/Weather\\\\3.1 March.xlsx', 'C:/Users/Hp/Downloads/Weather\\\\4. April.xlsx', 'C:/Users/Hp/Downloads/Weather\\\\4.1 April.xlsx', 'C:/Users/Hp/Downloads/Weather\\\\5. May.xlsx', 'C:/Users/Hp/Downloads/Weather\\\\5.1 May.xlsx', 'C:/Users/Hp/Downloads/Weather\\\\6. June.xlsx', 'C:/Users/Hp/Downloads/Weather\\\\6.1 June.xlsx', 'C:/Users/Hp/Downloads/Weather\\\\7. July.xlsx', 'C:/Users/Hp/Downloads/Weather\\\\7.1 July.xlsx', 'C:/Users/Hp/Downloads/Weather\\\\8. August.xlsx', 'C:/Users/Hp/Downloads/Weather\\\\8.1 August.xlsx', 'C:/Users/Hp/Downloads/Weather\\\\9.1 September.xlsx']\n"
     ]
    }
   ],
   "source": [
    "# Merge files\n",
    "def merge_files():\n",
    "    # path to csv files\n",
    "    path = \"C:/Users/Hp/Downloads/Weather\"\n",
    "    file_list = glob.glob(path + \"/*.xlsx\")\n",
    "    print(file_list)\n",
    "    # files to merge\n",
    "    excl_list=[]\n",
    "    for file in file_list:\n",
    "        excl_list.append(pd.read_excel(file))\n",
    "    # dataframe to store merged file\n",
    "    excl_merged = pd.DataFrame()\n",
    "    for excl_file in excl_list:\n",
    "        excl_merged = excl_merged.append(excl_file, ignore_index=True)\n",
    "    # export dataframe to excel file with specified name\n",
    "    excl_merged.to_excel('Weather_Data.xlsx',index=False)\n",
    "    \n",
    "merge_files()"
   ]
  }
 ],
 "metadata": {
  "kernelspec": {
   "display_name": "Python 3 (ipykernel)",
   "language": "python",
   "name": "python3"
  },
  "language_info": {
   "codemirror_mode": {
    "name": "ipython",
    "version": 3
   },
   "file_extension": ".py",
   "mimetype": "text/x-python",
   "name": "python",
   "nbconvert_exporter": "python",
   "pygments_lexer": "ipython3",
   "version": "3.9.7"
  }
 },
 "nbformat": 4,
 "nbformat_minor": 5
}
